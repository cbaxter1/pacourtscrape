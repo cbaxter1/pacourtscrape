{
 "cells": [
  {
   "cell_type": "code",
   "execution_count": 508,
   "metadata": {},
   "outputs": [],
   "source": [
    "from selenium import webdriver\n",
    "from selenium.webdriver.common.keys import Keys\n",
    "from selenium.webdriver.common.by import By\n",
    "from selenium.webdriver.support.ui import WebDriverWait\n",
    "from selenium.webdriver.support import expected_conditions as EC\n",
    "from selenium.webdriver.support.ui import Select\n",
    "import selenium.common.exceptions as slex\n",
    "import time\n",
    "\n",
    "driver = webdriver.Firefox()\n",
    "driver.implicitly_wait(20)\n",
    "driver.get(\"https://ujsportal.pacourts.us/DocketSheets/MDJ.aspx\")\n",
    "\n",
    "ignored_exceptions=(slex.NoSuchElementException,slex.StaleElementReferenceException)\n",
    "element_wait = WebDriverWait(driver, 10,ignored_exceptions=ignored_exceptions).until(expected_conditions.presence_of_element_located((By.ID, \"ctl00_ctl00_ctl00_cphMain_cphDynamicContent_ddlSearchType\")))"
   ]
  },
  {
   "cell_type": "code",
   "execution_count": 509,
   "metadata": {},
   "outputs": [
    {
     "name": "stdout",
     "output_type": "stream",
     "text": [
      "['CitationNumber', 'DateFiled', 'DocketNumber', 'Organization', 'OTN', 'Parcel', 'ParticipantName', 'PoliceIncident_Complaint', 'SID']\n"
     ]
    }
   ],
   "source": [
    "#using xpath of elect tag, finds id of dropdown element\n",
    "element = driver.find_element_by_xpath(\"//select[@id='ctl00_ctl00_ctl00_cphMain_cphDynamicContent_ddlSearchType']\")\n",
    "\n",
    "#finds all options within the select id and prints them to a list\n",
    "all_options = element.find_elements_by_tag_name(\"option\")\n",
    "options_list = list()\n",
    "for option in all_options:\n",
    "    options_list.append(option.get_attribute(\"value\"))\n",
    "print (options_list)"
   ]
  },
  {
   "cell_type": "code",
   "execution_count": 510,
   "metadata": {},
   "outputs": [],
   "source": [
    "dropdown = Select(element)\n",
    "dropdown_select = dropdown.select_by_value(\"DateFiled\")"
   ]
  },
  {
   "cell_type": "code",
   "execution_count": null,
   "metadata": {},
   "outputs": [],
   "source": []
  },
  {
   "cell_type": "code",
   "execution_count": 511,
   "metadata": {},
   "outputs": [
    {
     "name": "stdout",
     "output_type": "stream",
     "text": [
      "['', 'Adams', 'Allegheny', 'Armstrong', 'Beaver', 'Bedford', 'Berks', 'Blair', 'Bradford', 'Bucks', 'Butler', 'Cambria', 'Cameron', 'Carbon', 'Centre', 'Chester', 'Clarion', 'Clearfield', 'Clinton', 'Columbia', 'Crawford', 'Cumberland', 'Dauphin', 'Delaware', 'Elk', 'Erie', 'Fayette', 'Forest', 'Franklin', 'Fulton', 'Greene', 'Huntingdon', 'Indiana', 'Jefferson', 'Juniata', 'Lackawanna', 'Lancaster', 'Lawrence', 'Lebanon', 'Lehigh', 'Luzerne', 'Lycoming', 'McKean', 'Mercer', 'Mifflin', 'Monroe', 'Montgomery', 'Montour', 'Northampton', 'Northumberland', 'Perry', 'Pike', 'Potter', 'Schuylkill', 'Snyder', 'Somerset', 'Sullivan', 'Susquehanna', 'Tioga', 'Union', 'Venango', 'Warren', 'Washington', 'Wayne', 'Westmoreland', 'Wyoming', 'York']\n"
     ]
    }
   ],
   "source": [
    "county_element = driver.find_element_by_xpath(\"//select[@id='ctl00_ctl00_ctl00_cphMain_cphDynamicContent_cphSearchControls_udsDateFiled_ddlCounty']\")\n",
    "\n",
    "all_options = county_element.find_elements_by_tag_name(\"option\")\n",
    "options_list = list()\n",
    "for option in all_options:\n",
    "    options_list.append(option.get_attribute(\"value\"))\n",
    "print (options_list)"
   ]
  },
  {
   "cell_type": "code",
   "execution_count": 512,
   "metadata": {},
   "outputs": [],
   "source": [
    "dropdown_county = Select(county_element)\n",
    "dropdown_county_select = dropdown_county.select_by_value(\"Northampton\")"
   ]
  },
  {
   "cell_type": "code",
   "execution_count": 513,
   "metadata": {},
   "outputs": [],
   "source": [
    "time.sleep(3)"
   ]
  },
  {
   "cell_type": "code",
   "execution_count": 514,
   "metadata": {},
   "outputs": [],
   "source": [
    "office_element = driver.find_element_by_xpath(\"//select[@id='ctl00_ctl00_ctl00_cphMain_cphDynamicContent_cphSearchControls_udsDateFiled_ddlCourtOffice']\")"
   ]
  },
  {
   "cell_type": "code",
   "execution_count": 515,
   "metadata": {
    "scrolled": true
   },
   "outputs": [],
   "source": [
    "dropdown_office = Select(office_element)\n",
    "dropdown_office.select_by_index(2)"
   ]
  },
  {
   "cell_type": "code",
   "execution_count": 516,
   "metadata": {},
   "outputs": [],
   "source": [
    "date_begin_element = driver.find_element_by_xpath(\"//input[@id='ctl00_ctl00_ctl00_cphMain_cphDynamicContent_cphSearchControls_udsDateFiled_drpFiled_beginDateChildControl_DateTextBox']\")\n",
    "date_begin_element.click()\n",
    "date_begin_element.send_keys(Keys.HOME)\n",
    "date_begin = date_begin_element.send_keys(\"01012017\")"
   ]
  },
  {
   "cell_type": "code",
   "execution_count": 517,
   "metadata": {},
   "outputs": [],
   "source": [
    "date_end_element = driver.find_element_by_xpath(\"//input[@id='ctl00_ctl00_ctl00_cphMain_cphDynamicContent_cphSearchControls_udsDateFiled_drpFiled_endDateChildControl_DateTextBox']\")\n",
    "date_end = date_end_element.send_keys(\"01012017\")"
   ]
  },
  {
   "cell_type": "code",
   "execution_count": 518,
   "metadata": {},
   "outputs": [],
   "source": [
    "driver.find_element_by_id(\"ctl00_ctl00_ctl00_cphMain_cphDynamicContent_btnSearch\").click()"
   ]
  },
  {
   "cell_type": "code",
   "execution_count": null,
   "metadata": {},
   "outputs": [],
   "source": []
  },
  {
   "cell_type": "code",
   "execution_count": null,
   "metadata": {},
   "outputs": [],
   "source": []
  }
 ],
 "metadata": {
  "kernelspec": {
   "display_name": "Python 3",
   "language": "python",
   "name": "python3"
  },
  "language_info": {
   "codemirror_mode": {
    "name": "ipython",
    "version": 3
   },
   "file_extension": ".py",
   "mimetype": "text/x-python",
   "name": "python",
   "nbconvert_exporter": "python",
   "pygments_lexer": "ipython3",
   "version": "3.6.4"
  }
 },
 "nbformat": 4,
 "nbformat_minor": 2
}
